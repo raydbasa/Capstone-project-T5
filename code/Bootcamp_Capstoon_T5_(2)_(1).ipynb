{
  "cells": [
    {
      "cell_type": "code",
      "source": [
        "from IPython.display import HTML\n",
        "def colab_link():\n",
        "    display(HTML(f'<a href=\"<your notebook link>\" target=\"_parent\"><img src=\"https://colab.research.google.com/drive/1SxJRqyE9XEPLfzf7fnLfywIjPdM0ah4n\" alt=\"Open In Colab\"/></a>'))\n",
        "colab_link()"
      ],
      "metadata": {
        "colab": {
          "base_uri": "https://localhost:8080/",
          "height": 34
        },
        "id": "Jem2wp2CJEl8",
        "outputId": "b8dee1b6-f1ff-46b0-9f34-ea958489f9bb"
      },
      "execution_count": 2,
      "outputs": [
        {
          "output_type": "display_data",
          "data": {
            "text/plain": [
              "<IPython.core.display.HTML object>"
            ],
            "text/html": [
              "<a href=\"<your notebook link>\" target=\"_parent\"><img src=\"https://colab.research.google.com/drive/1SxJRqyE9XEPLfzf7fnLfywIjPdM0ah4n\" alt=\"Open In Colab\"/></a>"
            ]
          },
          "metadata": {}
        }
      ]
    },
    {
      "cell_type": "code",
      "execution_count": null,
      "metadata": {
        "colab": {
          "base_uri": "https://localhost:8080/"
        },
        "id": "rPZvsDy1NY6B",
        "outputId": "87b1d721-ce0f-433a-9bc8-789abed0444d"
      },
      "outputs": [
        {
          "output_type": "stream",
          "name": "stdout",
          "text": [
            "Mounted at /content/drive\n"
          ]
        }
      ],
      "source": [
        "# prompt: conicet to drive\n",
        "\n",
        "from google.colab import drive\n",
        "\n",
        "drive.mount('/content/drive')\n"
      ]
    },
    {
      "cell_type": "markdown",
      "metadata": {
        "id": "LzYziIuNOJTt"
      },
      "source": [
        "## Install YOLOv8"
      ]
    },
    {
      "cell_type": "code",
      "execution_count": null,
      "metadata": {
        "id": "f21-6OyDN65m",
        "colab": {
          "base_uri": "https://localhost:8080/"
        },
        "outputId": "4cbed99e-3311-4599-d37d-3adab31fca3b"
      },
      "outputs": [
        {
          "output_type": "stream",
          "name": "stdout",
          "text": [
            "\u001b[?25l     \u001b[90m━━━━━━━━━━━━━━━━━━━━━━━━━━━━━━━━━━━━━━━━\u001b[0m \u001b[32m0.0/778.7 kB\u001b[0m \u001b[31m?\u001b[0m eta \u001b[36m-:--:--\u001b[0m\r\u001b[2K     \u001b[91m━━━━━━━\u001b[0m\u001b[90m╺\u001b[0m\u001b[90m━━━━━━━━━━━━━━━━━━━━━━━━━━━━━━━━\u001b[0m \u001b[32m143.4/778.7 kB\u001b[0m \u001b[31m4.5 MB/s\u001b[0m eta \u001b[36m0:00:01\u001b[0m\r\u001b[2K     \u001b[91m━━━━━━━━━━━━━━━━━━━━━━━━━━━━━━━━━━━━━━━\u001b[0m\u001b[91m╸\u001b[0m \u001b[32m778.2/778.7 kB\u001b[0m \u001b[31m12.7 MB/s\u001b[0m eta \u001b[36m0:00:01\u001b[0m\r\u001b[2K     \u001b[90m━━━━━━━━━━━━━━━━━━━━━━━━━━━━━━━━━━━━━━━━\u001b[0m \u001b[32m778.7/778.7 kB\u001b[0m \u001b[31m10.8 MB/s\u001b[0m eta \u001b[36m0:00:00\u001b[0m\n",
            "\u001b[?25h"
          ]
        }
      ],
      "source": [
        "!pip install ultralytics --quiet"
      ]
    },
    {
      "cell_type": "code",
      "execution_count": null,
      "metadata": {
        "colab": {
          "base_uri": "https://localhost:8080/"
        },
        "id": "D5bI9fI4ONTt",
        "outputId": "504b56ff-9169-4c98-dcc0-ad270a6898f7"
      },
      "outputs": [
        {
          "output_type": "stream",
          "name": "stdout",
          "text": [
            "Ultralytics YOLOv8.2.23 🚀 Python-3.10.12 torch-2.3.0+cu121 CPU (AMD EPYC 7B12)\n",
            "Setup complete ✅ (8 CPUs, 51.0 GB RAM, 29.9/225.8 GB disk)\n"
          ]
        }
      ],
      "source": [
        "from IPython import display\n",
        "display.clear_output()\n",
        "\n",
        "import ultralytics\n",
        "ultralytics.checks()"
      ]
    },
    {
      "cell_type": "markdown",
      "metadata": {
        "id": "tgvywonvOU94"
      },
      "source": [
        "\n",
        "## Install ByteTrack"
      ]
    },
    {
      "cell_type": "code",
      "execution_count": null,
      "metadata": {
        "id": "O-x63gKnOuCX"
      },
      "outputs": [],
      "source": [
        "import os\n",
        "HOME = os.getcwd()"
      ]
    },
    {
      "cell_type": "code",
      "execution_count": null,
      "metadata": {
        "colab": {
          "base_uri": "https://localhost:8080/"
        },
        "id": "nTjoyclxOQ4F",
        "outputId": "aa86c781-04a1-41c6-8610-38a3d57ee384"
      },
      "outputs": [
        {
          "output_type": "stream",
          "name": "stdout",
          "text": [
            "yolox.__version__: 0.1.0\n"
          ]
        }
      ],
      "source": [
        "%cd {HOME}\n",
        "!git clone https://github.com/ifzhang/ByteTrack.git\n",
        "%cd {HOME}/ByteTrack\n",
        "\n",
        "# workaround related to https://github.com/roboflow/notebooks/issues/80\n",
        "!sed -i 's/onnx==1.8.1/onnx==1.9.0/g' requirements.txt\n",
        "\n",
        "!pip3 install -q -r requirements.txt\n",
        "!python3 setup.py -q develop\n",
        "!pip install -q cython_bbox\n",
        "!pip install -q onemetric\n",
        "# workaround related to https://github.com/roboflow/notebooks/issues/112 and https://github.com/roboflow/notebooks/issues/106\n",
        "!pip install -q loguru lap thop\n",
        "\n",
        "from IPython import display\n",
        "display.clear_output()\n",
        "\n",
        "\n",
        "import sys\n",
        "sys.path.append(f\"{HOME}/ByteTrack\")\n",
        "\n",
        "\n",
        "import yolox\n",
        "print(\"yolox.__version__:\", yolox.__version__)"
      ]
    },
    {
      "cell_type": "markdown",
      "metadata": {
        "id": "tJs91EBhPm5H"
      },
      "source": [
        "## Load pre-trained YOLOv8 model"
      ]
    },
    {
      "cell_type": "code",
      "execution_count": null,
      "metadata": {
        "id": "uCtLZyx4Pg69"
      },
      "outputs": [],
      "source": [
        "# settings\n",
        "MODEL = \"yolov8x.pt\""
      ]
    },
    {
      "cell_type": "code",
      "execution_count": null,
      "metadata": {
        "id": "Rg2esk-pPpzM"
      },
      "outputs": [],
      "source": [
        "from ultralytics import YOLO\n",
        "\n",
        "model = YOLO(MODEL)\n",
        "model.fuse()"
      ]
    },
    {
      "cell_type": "code",
      "execution_count": null,
      "metadata": {
        "id": "1jcrvgbt7BKK"
      },
      "outputs": [],
      "source": [
        "!pip install ultralytics==8.0.196"
      ]
    },
    {
      "cell_type": "markdown",
      "metadata": {
        "id": "Xe42vqid2bgH"
      },
      "source": [
        "##Install data from Roboflow :"
      ]
    },
    {
      "cell_type": "code",
      "execution_count": null,
      "metadata": {
        "id": "RUbjHRP3nP7X"
      },
      "outputs": [],
      "source": [
        "!pip install roboflow\n",
        "\n",
        "from roboflow import Roboflow\n",
        "rf = Roboflow(api_key=\"Y120uatJU1I0iFx7TWYu\")\n",
        "project = rf.workspace(\"ieeeroboticswsu\").project(\"boxdetect-fj8wk\")\n",
        "version = project.version(1)\n",
        "dataset = version.download(\"yolov8\")\n",
        "\n"
      ]
    },
    {
      "cell_type": "markdown",
      "metadata": {
        "id": "K3Ra1xCf2oUD"
      },
      "source": [
        "##yolo training:\n"
      ]
    },
    {
      "cell_type": "code",
      "execution_count": null,
      "metadata": {
        "id": "g4uJ63VJyVt1"
      },
      "outputs": [],
      "source": [
        "!yolo task=detect mode=train model=yolov8n data=data.yaml epochs=50 imgsz=224  amp=False"
      ]
    },
    {
      "cell_type": "markdown",
      "metadata": {
        "id": "NSjze3Ga26XL"
      },
      "source": [
        "##save runs :"
      ]
    },
    {
      "cell_type": "code",
      "execution_count": null,
      "metadata": {
        "id": "vqM9KtYI6dRf"
      },
      "outputs": [],
      "source": [
        "output_dir = '/content/drive/My Drive/yolo_training_output_T5Bootcamp'"
      ]
    },
    {
      "cell_type": "code",
      "execution_count": null,
      "metadata": {
        "id": "Qf8OQR3O6hiP"
      },
      "outputs": [],
      "source": [
        "!cp -r runs \"$output_dir\""
      ]
    },
    {
      "cell_type": "markdown",
      "metadata": {
        "id": "3on2eZus3Eyc"
      },
      "source": [
        "##validtion"
      ]
    },
    {
      "cell_type": "code",
      "execution_count": null,
      "metadata": {
        "colab": {
          "base_uri": "https://localhost:8080/"
        },
        "id": "O0Xh_mYlz3G1",
        "outputId": "027fa423-6bb9-4b8c-b9a5-9b187ceb2824"
      },
      "outputs": [
        {
          "name": "stdout",
          "output_type": "stream",
          "text": [
            "Ultralytics YOLOv8.0.196 🚀 Python-3.10.12 torch-2.3.0+cu121 CPU (Intel Xeon 2.20GHz)\n",
            "Model summary (fused): 268 layers, 68124531 parameters, 0 gradients, 257.4 GFLOPs\n",
            "\u001b[34m\u001b[1mval: \u001b[0mScanning /content/boxdetect-1/valid/labels.cache... 198 images, 0 backgrounds, 0 corrupt: 100% 198/198 [00:00<?, ?it/s]\n",
            "                 Class     Images  Instances      Box(P          R      mAP50  mAP50-95): 100% 13/13 [04:19<00:00, 19.95s/it]\n",
            "                   all        198        433      0.945       0.91      0.954      0.793\n",
            "Speed: 0.9ms preprocess, 1286.5ms inference, 0.0ms loss, 0.7ms postprocess per image\n",
            "Results saved to \u001b[1mruns/detect/val\u001b[0m\n",
            "💡 Learn more at https://docs.ultralytics.com/modes/val\n"
          ]
        }
      ],
      "source": [
        "!yolo task=detect mode=val model=/content/drive/MyDrive/yolo_training_output_T5Bootcamp/detect/train2/weights/best.pt data=data.yaml epochs=50 imgsz=224  amp=False"
      ]
    },
    {
      "cell_type": "markdown",
      "metadata": {
        "id": "hcWDwUg63N_k"
      },
      "source": [
        "## counter"
      ]
    },
    {
      "cell_type": "code",
      "execution_count": null,
      "metadata": {
        "colab": {
          "base_uri": "https://localhost:8080/"
        },
        "id": "QfKXasJtENQN",
        "outputId": "c15ae00f-7593-4b4a-c278-f5f1e74bf336"
      },
      "outputs": [
        {
          "output_type": "stream",
          "name": "stdout",
          "text": [
            "Final Total Counted: 24\n"
          ]
        }
      ],
      "source": [
        "import cv2\n",
        "from ultralytics import YOLO\n",
        "\n",
        "# Load the YOLO model\n",
        "model = YOLO(\"/content/drive/MyDrive/yolo_training_output_T5Bootcamp/detect/train2/weights/best.pt\")\n",
        "\n",
        "# Video input path\n",
        "video_path = '/content/WhatsApp Video 2024-05-23 at 2.09.03 PM.mp4'\n",
        "cap = cv2.VideoCapture(video_path)\n",
        "\n",
        "# Check if the video file opened successfully\n",
        "if not cap.isOpened():\n",
        "    print(\"Error: Could not open video.\")\n",
        "    exit()\n",
        "\n",
        "# Get video properties\n",
        "fps = cap.get(cv2.CAP_PROP_FPS)\n",
        "frame_width = int(cap.get(cv2.CAP_PROP_FRAME_WIDTH))\n",
        "frame_height = int(cap.get(cv2.CAP_PROP_FRAME_HEIGHT))\n",
        "\n",
        "# Video output setup\n",
        "fourcc = cv2.VideoWriter_fourcc(*'mp4v')  # 'mp4v' codec for .mp4 files\n",
        "output_path = '/content/output_video.mp4'\n",
        "out = cv2.VideoWriter(output_path, fourcc, fps, (frame_width, frame_height))\n",
        "\n",
        "# Calculate center line coordinates\n",
        "center_x_line = frame_width // 2\n",
        "line_coords = [(center_x_line, 0), (center_x_line, frame_height)]\n",
        "line_color = (0, 0, 255)\n",
        "\n",
        "# Initialize variables to keep track of box positions and IDs\n",
        "box_ids = {}\n",
        "next_box_id = 0\n",
        "total_counted = 0\n",
        "box_lifetime = 30  # Number of frames to keep a box in memory if not detected\n",
        "\n",
        "while cap.isOpened():\n",
        "    ret, frame = cap.read()\n",
        "    if not ret:\n",
        "        break\n",
        "\n",
        "    # Detect objects in the frame\n",
        "    detect_params = model.predict(source=[frame], conf=0.20, save=False, verbose=False)\n",
        "\n",
        "    current_frame_boxes = []\n",
        "\n",
        "    if detect_params and len(detect_params[0].boxes) > 0:\n",
        "        for box in detect_params[0].boxes:\n",
        "            bb = box.xyxy.cpu().numpy()[0]\n",
        "            center_x = int((bb[0] + bb[2]) / 2)\n",
        "            center_y = int((bb[1] + bb[3]) / 2)\n",
        "\n",
        "            current_frame_boxes.append((center_x, center_y, bb))\n",
        "\n",
        "            # Assign an ID to the box\n",
        "            box_id = None\n",
        "            for key, value in box_ids.items():\n",
        "                if abs(value['coords'][0] - center_x) < 50 and abs(value['coords'][1] - center_y) < 50:\n",
        "                    box_id = key\n",
        "                    break\n",
        "\n",
        "            if box_id is None:\n",
        "                box_id = next_box_id\n",
        "                next_box_id += 1\n",
        "                box_ids[box_id] = {'coords': (center_x, center_y), 'counted': False, 'prev_state': 'left', 'lifetime': box_lifetime}\n",
        "\n",
        "            box_ids[box_id]['coords'] = (center_x, center_y)\n",
        "            box_ids[box_id]['lifetime'] = box_lifetime  # Reset lifetime\n",
        "\n",
        "            # Count the box if it crosses the line\n",
        "            if not box_ids[box_id]['counted']:\n",
        "                if box_ids[box_id]['prev_state'] == 'left' and center_x >= center_x_line + 10:\n",
        "                    total_counted += 1\n",
        "                    box_ids[box_id]['counted'] = True\n",
        "                    box_ids[box_id]['prev_state'] = 'right'\n",
        "                elif center_x < center_x_line - 10:\n",
        "                    box_ids[box_id]['prev_state'] = 'left'\n",
        "\n",
        "    # Decrease the lifetime of all boxes and remove old boxes\n",
        "    box_ids = {k: v for k, v in box_ids.items() if v['lifetime'] > 0}\n",
        "    for box_id in box_ids:\n",
        "        box_ids[box_id]['lifetime'] -= 1\n",
        "\n",
        "    # Draw the bounding boxes and IDs\n",
        "    for center_x, center_y, bb in current_frame_boxes:\n",
        "        for box_id, value in box_ids.items():\n",
        "            if value['coords'] == (center_x, center_y):\n",
        "                cv2.rectangle(frame, (int(bb[0]), int(bb[1])), (int(bb[2]), int(bb[3])), (255, 0, 0), 2)\n",
        "                cv2.putText(frame, f'ID: {box_id}', (int(bb[0]), int(bb[1]) - 10), cv2.FONT_HERSHEY_COMPLEX, 0.5, (255, 0, 0), 1)\n",
        "                # cv2.circle(frame, (center_x, center_y), 5, (0, 255, 0), -1)\n",
        "\n",
        "    # Draw the center line\n",
        "    # cv2.line(frame, line_coords[0], line_coords[1], line_color, 2)\n",
        "    cv2.putText(frame, f'Total Counted: {total_counted}', (10, 50), cv2.FONT_HERSHEY_COMPLEX, 1, (0, 255, 0), 2)\n",
        "\n",
        "    out.write(frame)\n",
        "\n",
        "cap.release()\n",
        "out.release()\n",
        "\n",
        "print(f'Final Total Counted: {total_counted}')\n"
      ]
    }
  ],
  "metadata": {
    "accelerator": "GPU",
    "colab": {
      "gpuType": "T4",
      "machine_shape": "hm",
      "provenance": []
    },
    "kernelspec": {
      "display_name": "Python 3",
      "name": "python3"
    },
    "language_info": {
      "name": "python"
    }
  },
  "nbformat": 4,
  "nbformat_minor": 0
}